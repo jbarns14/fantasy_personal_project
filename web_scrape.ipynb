{
 "cells": [
  {
   "cell_type": "code",
   "execution_count": 1,
   "metadata": {},
   "outputs": [],
   "source": [
    "# import modules\n",
    "import os\n",
    "import requests\n",
    "import pandas as pd\n",
    "from bs4 import BeautifulSoup\n",
    "import csv"
   ]
  },
  {
   "cell_type": "code",
   "execution_count": null,
   "metadata": {},
   "outputs": [],
   "source": [
    "# Create a dictionary of URLs for each position group\n",
    "\n",
    "url_dict = {\n",
    "    \"QB\": \"https://www.fantasypros.com/nfl/projections/qb.php?week=draft\",\n",
    "    \"RB\": \"https://www.fantasypros.com/nfl/projections/rb.php?week=draft&scoring=PPR&week=draft\",\n",
    "    \"WR\": \"https://www.fantasypros.com/nfl/projections/wr.php?week=draft&scoring=PPR&week=draft\",\n",
    "    \"TE\": \"https://www.fantasypros.com/nfl/projections/te.php?week=draft&scoring=PPR&week=draft\",\n",
    "    \"FLEX\": \"https://www.fantasypros.com/nfl/projections/flex.php?week=draft&scoring=PPR&week=draft\",\n",
    "    \"K\": \"https://www.fantasypros.com/nfl/projections/k.php?week=draft\",\n",
    "    \"DEF\": \"https://www.fantasypros.com/nfl/projections/dst.php?week=draft\",\n",
    "}"
   ]
  },
  {
   "cell_type": "code",
   "execution_count": 2,
   "metadata": {},
   "outputs": [
    {
     "name": "stdout",
     "output_type": "stream",
     "text": [
      "Data from QB (https://www.fantasypros.com/nfl/projections/qb.php?week=draft) saved to data/scraped/QB_projections.csv\n",
      "Data from RB (https://www.fantasypros.com/nfl/projections/rb.php?week=draft&scoring=PPR&week=draft) saved to data/scraped/RB_projections.csv\n",
      "Data from WR (https://www.fantasypros.com/nfl/projections/wr.php?week=draft&scoring=PPR&week=draft) saved to data/scraped/WR_projections.csv\n",
      "Data from TE (https://www.fantasypros.com/nfl/projections/te.php?week=draft&scoring=PPR&week=draft) saved to data/scraped/TE_projections.csv\n",
      "Data from FLEX (https://www.fantasypros.com/nfl/projections/flex.php?week=draft&scoring=PPR&week=draft) saved to data/scraped/FLEX_projections.csv\n",
      "Data from K (https://www.fantasypros.com/nfl/projections/k.php?week=draft) saved to data/scraped/K_projections.csv\n",
      "Data from DEF (https://www.fantasypros.com/nfl/projections/dst.php?week=draft) saved to data/scraped/DEF_projections.csv\n",
      "Scraping and data saving completed.\n"
     ]
    }
   ],
   "source": [
    "# Step 2: Loop through each key-value pair in the dictionary\n",
    "for name, url in url_dict.items():\n",
    "    response = requests.get(url)\n",
    "    soup = BeautifulSoup(response.text, \"html.parser\")\n",
    "\n",
    "    # Example: Locate and extract data from a table (customize this as needed)\n",
    "    table = soup.find(\"table\")\n",
    "\n",
    "    if table:\n",
    "        headers = [header.get_text().strip() for header in table.find_all(\"th\")]\n",
    "        rows = []\n",
    "        for row in table.find_all(\"tr\"):\n",
    "            cells = [cell.get_text().strip() for cell in row.find_all(\"td\")]\n",
    "            if cells:  # Only append non-empty rows\n",
    "                rows.append(cells)\n",
    "\n",
    "        # Combine headers and rows into a DataFrame\n",
    "        df = pd.DataFrame(rows, columns=headers)\n",
    "\n",
    "        # Step 3: Save each DataFrame to a separate CSV file with the variable name\n",
    "        filename = os.path.join(\"data/scraped\", f\"{name}_projections.csv\")\n",
    "        df.to_csv(filename, index=False)\n",
    "\n",
    "        print(f\"Data from {name} ({url}) saved to {filename}\")\n",
    "\n",
    "print(\"Scraping and data saving completed.\")"
   ]
  },
  {
   "cell_type": "code",
   "execution_count": 25,
   "metadata": {},
   "outputs": [
    {
     "name": "stdout",
     "output_type": "stream",
     "text": [
      "Data from QB_projections saved to data/clean/QB_projections_clean.csv\n",
      "Data from RB_projections saved to data/clean/RB_projections_clean.csv\n",
      "Data from WR_projections saved to data/clean/WR_projections_clean.csv\n",
      "Data from TE_projections saved to data/clean/TE_projections_clean.csv\n",
      "Data from FLEX_projections saved to data/clean/FLEX_projections_clean.csv\n",
      "Data cleaning completed.\n"
     ]
    }
   ],
   "source": [
    "# Clean the data so it can be manipulated\n",
    "\n",
    "# Some of the positions have an extra row of column headers that need to be deleted\n",
    "\n",
    "clean_files = [\n",
    "    \"QB_projections\",\n",
    "    \"RB_projections\",\n",
    "    \"WR_projections\",\n",
    "    \"TE_projections\",\n",
    "    \"FLEX_projections\",\n",
    "]\n",
    "\n",
    "for file in clean_files:\n",
    "    df = pd.read_csv(f\"data/scraped/{file}.csv\")\n",
    "\n",
    "    df = df[1:]\n",
    "\n",
    "    if file in [\"RB_projections\", \"FLEX_projections\"]:\n",
    "        df = df.rename(\n",
    "            columns={\n",
    "                \"YDS\": \"RUSH_YDS\",\n",
    "                \"TDS\": \"RUSH_TDS\",\n",
    "                \"YDS.1\": \"REC_YDS\",\n",
    "                \"TDS.1\": \"REC_TDS\",\n",
    "            }\n",
    "        )\n",
    "    elif file == \"WR_projections\":\n",
    "        df = df.rename(\n",
    "            columns={\n",
    "                \"YDS\": \"REC_YDS\",\n",
    "                \"TDS\": \"REC_TDS\",\n",
    "                \"YDS.1\": \"RUSH_YDS\",\n",
    "                \"TDS.1\": \"RUSH_TDS\",\n",
    "            }\n",
    "        )\n",
    "    elif file == \"TE_projections\":\n",
    "        df = df.rename(columns={\"YDS\": \"REC_YDS\", \"TDS\": \"REC_TDS\"})\n",
    "\n",
    "    # Save cleaned files to the clean subdirectory\n",
    "    filename = os.path.join(\"data/clean\", f\"{file}_clean.csv\")\n",
    "    df.to_csv(filename, index=False)\n",
    "\n",
    "    print(f\"Data from {file} saved to {filename}\")\n",
    "\n",
    "print(\"Data cleaning completed.\")"
   ]
  },
  {
   "cell_type": "code",
   "execution_count": 26,
   "metadata": {},
   "outputs": [
    {
     "data": {
      "text/html": [
       "<div>\n",
       "<style scoped>\n",
       "    .dataframe tbody tr th:only-of-type {\n",
       "        vertical-align: middle;\n",
       "    }\n",
       "\n",
       "    .dataframe tbody tr th {\n",
       "        vertical-align: top;\n",
       "    }\n",
       "\n",
       "    .dataframe thead th {\n",
       "        text-align: right;\n",
       "    }\n",
       "</style>\n",
       "<table border=\"1\" class=\"dataframe\">\n",
       "  <thead>\n",
       "    <tr style=\"text-align: right;\">\n",
       "      <th></th>\n",
       "      <th>Player</th>\n",
       "      <th>POS</th>\n",
       "      <th>ATT</th>\n",
       "      <th>RUSH_YDS</th>\n",
       "      <th>RUSH_TDS</th>\n",
       "      <th>REC</th>\n",
       "      <th>REC_YDS</th>\n",
       "      <th>REC_TDS</th>\n",
       "      <th>FL</th>\n",
       "      <th>FPTS</th>\n",
       "    </tr>\n",
       "  </thead>\n",
       "  <tbody>\n",
       "    <tr>\n",
       "      <th>0</th>\n",
       "      <td>Christian McCaffrey SF</td>\n",
       "      <td>RB1</td>\n",
       "      <td>273.0</td>\n",
       "      <td>1,290.0</td>\n",
       "      <td>11.6</td>\n",
       "      <td>69.9</td>\n",
       "      <td>567.4</td>\n",
       "      <td>4.8</td>\n",
       "      <td>1.7</td>\n",
       "      <td>350.9</td>\n",
       "    </tr>\n",
       "    <tr>\n",
       "      <th>1</th>\n",
       "      <td>CeeDee Lamb DAL</td>\n",
       "      <td>WR1</td>\n",
       "      <td>9.8</td>\n",
       "      <td>68.2</td>\n",
       "      <td>0.8</td>\n",
       "      <td>116.1</td>\n",
       "      <td>1,488.5</td>\n",
       "      <td>9.7</td>\n",
       "      <td>1.1</td>\n",
       "      <td>332.7</td>\n",
       "    </tr>\n",
       "    <tr>\n",
       "      <th>2</th>\n",
       "      <td>Tyreek Hill MIA</td>\n",
       "      <td>WR2</td>\n",
       "      <td>5.2</td>\n",
       "      <td>30.5</td>\n",
       "      <td>0.1</td>\n",
       "      <td>110.2</td>\n",
       "      <td>1,541.6</td>\n",
       "      <td>9.8</td>\n",
       "      <td>1.0</td>\n",
       "      <td>325.2</td>\n",
       "    </tr>\n",
       "    <tr>\n",
       "      <th>3</th>\n",
       "      <td>Breece Hall NYJ</td>\n",
       "      <td>RB2</td>\n",
       "      <td>249.3</td>\n",
       "      <td>1,128.0</td>\n",
       "      <td>8.1</td>\n",
       "      <td>66.8</td>\n",
       "      <td>529.0</td>\n",
       "      <td>3.8</td>\n",
       "      <td>1.4</td>\n",
       "      <td>301.0</td>\n",
       "    </tr>\n",
       "    <tr>\n",
       "      <th>4</th>\n",
       "      <td>Amon-Ra St. Brown DET</td>\n",
       "      <td>WR3</td>\n",
       "      <td>4.5</td>\n",
       "      <td>31.1</td>\n",
       "      <td>0.1</td>\n",
       "      <td>111.0</td>\n",
       "      <td>1,354.4</td>\n",
       "      <td>8.2</td>\n",
       "      <td>0.9</td>\n",
       "      <td>297.4</td>\n",
       "    </tr>\n",
       "  </tbody>\n",
       "</table>\n",
       "</div>"
      ],
      "text/plain": [
       "                   Player  POS    ATT RUSH_YDS  RUSH_TDS    REC  REC_YDS  \\\n",
       "0  Christian McCaffrey SF  RB1  273.0  1,290.0      11.6   69.9    567.4   \n",
       "1         CeeDee Lamb DAL  WR1    9.8     68.2       0.8  116.1  1,488.5   \n",
       "2         Tyreek Hill MIA  WR2    5.2     30.5       0.1  110.2  1,541.6   \n",
       "3         Breece Hall NYJ  RB2  249.3  1,128.0       8.1   66.8    529.0   \n",
       "4   Amon-Ra St. Brown DET  WR3    4.5     31.1       0.1  111.0  1,354.4   \n",
       "\n",
       "   REC_TDS   FL   FPTS  \n",
       "0      4.8  1.7  350.9  \n",
       "1      9.7  1.1  332.7  \n",
       "2      9.8  1.0  325.2  \n",
       "3      3.8  1.4  301.0  \n",
       "4      8.2  0.9  297.4  "
      ]
     },
     "execution_count": 26,
     "metadata": {},
     "output_type": "execute_result"
    }
   ],
   "source": [
    "df = pd.read_csv(\"data/clean/FLEX_projections_clean.csv\")\n",
    "\n",
    "df.head()"
   ]
  },
  {
   "cell_type": "code",
   "execution_count": 3,
   "metadata": {},
   "outputs": [],
   "source": [
    "# # URLs to scrape from\n",
    "\n",
    "# QB = \"https://www.fantasypros.com/nfl/projections/qb.php?week=draft\"\n",
    "# RB = \"https://www.fantasypros.com/nfl/projections/rb.php?week=draft&scoring=PPR&week=draft\"\n",
    "# WR = \"https://www.fantasypros.com/nfl/projections/wr.php?week=draft&scoring=PPR&week=draft\"\n",
    "# TE = \"https://www.fantasypros.com/nfl/projections/te.php?week=draft&scoring=PPR&week=draft\"\n",
    "# FLEX = \"https://www.fantasypros.com/nfl/projections/flex.php?week=draft&scoring=PPR&week=draft\"\n",
    "# K = \"https://www.fantasypros.com/nfl/projections/k.php?week=draft\"\n",
    "# DEF = \"https://www.fantasypros.com/nfl/projections/dst.php?week=draft\"\n",
    "\n",
    "# urls = [QB, RB, WR, TE, FLEX, K, DEF]"
   ]
  },
  {
   "cell_type": "code",
   "execution_count": 4,
   "metadata": {},
   "outputs": [],
   "source": [
    "# # Make a get request\n",
    "# r = requests.get(url)\n",
    "\n",
    "# # Initialize soup object\n",
    "# soup = BeautifulSoup(r.text, \"html.parser\")"
   ]
  },
  {
   "cell_type": "code",
   "execution_count": 5,
   "metadata": {},
   "outputs": [],
   "source": [
    "# # Find the table\n",
    "# table = soup.find(\"table\")"
   ]
  },
  {
   "cell_type": "code",
   "execution_count": 6,
   "metadata": {},
   "outputs": [],
   "source": [
    "# # print(table)\n",
    "\n",
    "# # Extract table data\n",
    "\n",
    "# # Extract headers\n",
    "# headers = []\n",
    "# for header in table.find_all(\"th\"):\n",
    "#     headers.append(header.get_text().strip())\n",
    "\n",
    "\n",
    "# # Extract rows\n",
    "# rows = []\n",
    "# for row in table.find_all(\"tr\"):\n",
    "#     cells = row.find_all(\"td\")\n",
    "#     cells = [cell.get_text().strip() for cell in cells]\n",
    "#     if cells:\n",
    "#         rows.append(cells)"
   ]
  },
  {
   "cell_type": "code",
   "execution_count": 7,
   "metadata": {},
   "outputs": [],
   "source": [
    "# # Check if we can see the data\n",
    "\n",
    "# for header in headers:\n",
    "#     print(header, end=\" | \")\n",
    "# # print('\\n' + '-'*40)\n",
    "\n",
    "# for row in rows:\n",
    "#     print(\" | \".join(row))"
   ]
  },
  {
   "cell_type": "code",
   "execution_count": 8,
   "metadata": {},
   "outputs": [],
   "source": [
    "# print(headers)\n",
    "# print(rows[1:])"
   ]
  },
  {
   "cell_type": "code",
   "execution_count": 9,
   "metadata": {},
   "outputs": [],
   "source": [
    "# # Save data as csv\n",
    "\n",
    "# rows = rows[1:]\n",
    "\n",
    "# with open(\"rb_projections\", \"w\") as file:\n",
    "#     writer = csv.writer(file)\n",
    "#     writer.writerow(headers)\n",
    "#     for row in rows:\n",
    "#         writer.writerow(row)"
   ]
  },
  {
   "cell_type": "code",
   "execution_count": 10,
   "metadata": {},
   "outputs": [],
   "source": [
    "# data = pd.read_csv(\"rb_projections\")\n",
    "\n",
    "# data.head(25)\n",
    "\n",
    "# # data.dtypes\n",
    "\n",
    "# data[\"YDS\"] = data[\"YDS\"].str.replace(\",\", \"\")\n",
    "# data[\"YDS\"] = pd.to_numeric(data[\"YDS\"], errors=\"coerce\")\n",
    "# data[\"YDS\"] = data[\"YDS\"].astype(\"float64\")\n",
    "\n",
    "# data.head()"
   ]
  },
  {
   "cell_type": "code",
   "execution_count": 11,
   "metadata": {},
   "outputs": [],
   "source": [
    "# # Overwrite the csv file with the new cleaned data\n",
    "\n",
    "# data.to_csv(\"rb_projections\", index=False)"
   ]
  },
  {
   "cell_type": "code",
   "execution_count": null,
   "metadata": {},
   "outputs": [],
   "source": []
  }
 ],
 "metadata": {
  "kernelspec": {
   "display_name": "fantasy_project",
   "language": "python",
   "name": "python3"
  },
  "language_info": {
   "codemirror_mode": {
    "name": "ipython",
    "version": 3
   },
   "file_extension": ".py",
   "mimetype": "text/x-python",
   "name": "python",
   "nbconvert_exporter": "python",
   "pygments_lexer": "ipython3",
   "version": "3.12.5"
  }
 },
 "nbformat": 4,
 "nbformat_minor": 2
}
